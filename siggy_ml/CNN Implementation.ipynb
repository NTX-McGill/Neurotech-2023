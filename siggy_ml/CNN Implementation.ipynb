{
 "cells": [
  {
   "cell_type": "code",
   "execution_count": 98,
   "id": "5dc49137",
   "metadata": {},
   "outputs": [],
   "source": [
    "import numpy as np\n",
    "import matplotlib.pyplot as plt\n",
    "import tensorflow as tf\n",
    "from tensorflow.keras import datasets, layers, models\n",
    "from sklearn.preprocessing import normalize\n",
    "from tensorflow.keras import regularizers"
   ]
  },
  {
   "cell_type": "code",
   "execution_count": 87,
   "id": "b7dea640",
   "metadata": {},
   "outputs": [
    {
     "data": {
      "text/plain": [
       "(3561, 256, 6, 1)"
      ]
     },
     "execution_count": 87,
     "metadata": {},
     "output_type": "execute_result"
    }
   ],
   "source": [
    "X_train = np.load('multichannel_dataset/X_train.npy')\n",
    "X_test = np.load('multichannel_dataset/X_test.npy')\n",
    "y_train = np.load('multichannel_dataset/y_train.npy')\n",
    "y_test = np.load('multichannel_dataset/y_test.npy')\n",
    "\n",
    "X_train = np.expand_dims(X_train, axis = -1)\n",
    "X_test = np.expand_dims(X_test, axis = -1)\n",
    "y_train = np.expand_dims(y_train, axis = -1)\n",
    "y_test = np.expand_dims(y_test, axis = -1)\n",
    "\n",
    "y_train = np.append(y_train, 1-y_train, axis = 1)\n",
    "y_test = np.append(y_test, 1-y_test, axis = 1)\n",
    "\n",
    "X_train = np.swapaxes(X_train, 1, 2)\n",
    "X_test = np.swapaxes(X_test, 1, 2)\n",
    "\n",
    "X_train.shape"
   ]
  },
  {
   "cell_type": "code",
   "execution_count": 121,
   "id": "07f2dd3e",
   "metadata": {},
   "outputs": [
    {
     "name": "stdout",
     "output_type": "stream",
     "text": [
      "Model: \"sequential_53\"\n",
      "_________________________________________________________________\n",
      " Layer (type)                Output Shape              Param #   \n",
      "=================================================================\n",
      " conv2d_112 (Conv2D)         (None, 256, 6, 40)        1240      \n",
      "                                                                 \n",
      " conv2d_113 (Conv2D)         (None, 256, 1, 40)        9640      \n",
      "                                                                 \n",
      " average_pooling2d_16 (Avera  (None, 16, 1, 40)        0         \n",
      " gePooling2D)                                                    \n",
      "                                                                 \n",
      " flatten_32 (Flatten)        (None, 640)               0         \n",
      "                                                                 \n",
      " dense_65 (Dense)            (None, 80)                51280     \n",
      "                                                                 \n",
      " dense_66 (Dense)            (None, 2)                 162       \n",
      "                                                                 \n",
      "=================================================================\n",
      "Total params: 62,322\n",
      "Trainable params: 62,322\n",
      "Non-trainable params: 0\n",
      "_________________________________________________________________\n"
     ]
    }
   ],
   "source": [
    "input_shape = (256, 6, 1)\n",
    "\n",
    "\n",
    "model = models.Sequential()\n",
    "model.add(layers.Conv2D(40, (30, 1), kernel_regularizer=regularizers.L2(1e-2), activation=\"relu\", padding=\"same\", input_shape=input_shape))\n",
    "model.add(layers.Conv2D(40, (1, 6), kernel_regularizer=regularizers.L2(1e-2), activation=\"relu\", padding=\"valid\"))\n",
    "model.add(layers.AveragePooling2D((30, 1), strides=(15, 1)))\n",
    "model.add(layers.Flatten())\n",
    "model.add(layers.Dense(80, kernel_regularizer=regularizers.L2(1e-2), activation=\"relu\"))\n",
    "model.add(layers.Dense(2, activation=\"softmax\"))\n",
    "\n",
    "model.summary()"
   ]
  },
  {
   "cell_type": "code",
   "execution_count": 124,
   "id": "9b36dee1",
   "metadata": {
    "scrolled": false
   },
   "outputs": [
    {
     "name": "stdout",
     "output_type": "stream",
     "text": [
      "Epoch 1/15\n",
      "112/112 [==============================] - 2s 13ms/step - loss: 0.5886 - acc: 0.7284 - val_loss: 0.6241 - val_acc: 0.6925\n",
      "Epoch 2/15\n",
      "112/112 [==============================] - 1s 12ms/step - loss: 0.5847 - acc: 0.7299 - val_loss: 0.6064 - val_acc: 0.6734\n",
      "Epoch 3/15\n",
      "112/112 [==============================] - 1s 13ms/step - loss: 0.5764 - acc: 0.7287 - val_loss: 0.6055 - val_acc: 0.6869\n",
      "Epoch 4/15\n",
      "112/112 [==============================] - 1s 13ms/step - loss: 0.5675 - acc: 0.7324 - val_loss: 0.6249 - val_acc: 0.6768\n",
      "Epoch 5/15\n",
      "112/112 [==============================] - 1s 13ms/step - loss: 0.5800 - acc: 0.7276 - val_loss: 0.6147 - val_acc: 0.6801\n",
      "Epoch 6/15\n",
      "112/112 [==============================] - 2s 15ms/step - loss: 0.5583 - acc: 0.7397 - val_loss: 0.6375 - val_acc: 0.6925\n",
      "Epoch 7/15\n",
      "112/112 [==============================] - 2s 19ms/step - loss: 0.5715 - acc: 0.7360 - val_loss: 0.6074 - val_acc: 0.6846\n",
      "Epoch 8/15\n",
      "112/112 [==============================] - 2s 21ms/step - loss: 0.5682 - acc: 0.7369 - val_loss: 0.6108 - val_acc: 0.6947\n",
      "Epoch 9/15\n",
      "112/112 [==============================] - 2s 20ms/step - loss: 0.5545 - acc: 0.7405 - val_loss: 0.5941 - val_acc: 0.7003\n",
      "Epoch 10/15\n",
      "112/112 [==============================] - 2s 18ms/step - loss: 0.5548 - acc: 0.7433 - val_loss: 0.6270 - val_acc: 0.6914\n",
      "Epoch 11/15\n",
      "112/112 [==============================] - 2s 18ms/step - loss: 0.5502 - acc: 0.7529 - val_loss: 0.6393 - val_acc: 0.6756\n",
      "Epoch 12/15\n",
      "112/112 [==============================] - 2s 18ms/step - loss: 0.5423 - acc: 0.7554 - val_loss: 0.6065 - val_acc: 0.7015\n",
      "Epoch 13/15\n",
      "112/112 [==============================] - 2s 17ms/step - loss: 0.5486 - acc: 0.7504 - val_loss: 0.6038 - val_acc: 0.7037\n",
      "Epoch 14/15\n",
      "112/112 [==============================] - 2s 17ms/step - loss: 0.5490 - acc: 0.7492 - val_loss: 0.6063 - val_acc: 0.7059\n",
      "Epoch 15/15\n",
      "112/112 [==============================] - 2s 17ms/step - loss: 0.5420 - acc: 0.7543 - val_loss: 0.6090 - val_acc: 0.7183\n"
     ]
    }
   ],
   "source": [
    "model.compile(loss=\"categorical_crossentropy\", optimizer=\"adam\", metrics=[\"acc\"])\n",
    "\n",
    "history = model.fit(X_train, y_train, epochs=15, \n",
    "                    validation_data=(X_test, y_test))\n"
   ]
  },
  {
   "cell_type": "code",
   "execution_count": 125,
   "id": "5c0376b7",
   "metadata": {},
   "outputs": [
    {
     "name": "stderr",
     "output_type": "stream",
     "text": [
      "WARNING:absl:Found untraced functions such as _jit_compiled_convolution_op, _jit_compiled_convolution_op, _update_step_xla while saving (showing 3 of 3). These functions will not be directly callable after loading.\n"
     ]
    },
    {
     "name": "stdout",
     "output_type": "stream",
     "text": [
      "INFO:tensorflow:Assets written to: eeg_cnn/assets\n"
     ]
    },
    {
     "name": "stderr",
     "output_type": "stream",
     "text": [
      "INFO:tensorflow:Assets written to: eeg_cnn/assets\n"
     ]
    }
   ],
   "source": [
    "model.save('eeg_cnn')"
   ]
  }
 ],
 "metadata": {
  "kernelspec": {
   "display_name": "Python 3 (ipykernel)",
   "language": "python",
   "name": "python3"
  },
  "language_info": {
   "codemirror_mode": {
    "name": "ipython",
    "version": 3
   },
   "file_extension": ".py",
   "mimetype": "text/x-python",
   "name": "python",
   "nbconvert_exporter": "python",
   "pygments_lexer": "ipython3",
   "version": "3.8.10"
  }
 },
 "nbformat": 4,
 "nbformat_minor": 5
}
