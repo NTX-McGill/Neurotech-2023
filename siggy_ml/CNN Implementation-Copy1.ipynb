{
 "cells": [
  {
   "cell_type": "code",
   "execution_count": 2,
   "id": "222e3711",
   "metadata": {},
   "outputs": [
    {
     "name": "stderr",
     "output_type": "stream",
     "text": [
      "2023-03-26 11:35:05.286784: I tensorflow/core/platform/cpu_feature_guard.cc:193] This TensorFlow binary is optimized with oneAPI Deep Neural Network Library (oneDNN) to use the following CPU instructions in performance-critical operations:  AVX2 AVX512F AVX512_VNNI FMA\n",
      "To enable them in other operations, rebuild TensorFlow with the appropriate compiler flags.\n",
      "2023-03-26 11:35:05.387007: I tensorflow/core/util/port.cc:104] oneDNN custom operations are on. You may see slightly different numerical results due to floating-point round-off errors from different computation orders. To turn them off, set the environment variable `TF_ENABLE_ONEDNN_OPTS=0`.\n",
      "2023-03-26 11:35:05.389586: W tensorflow/compiler/xla/stream_executor/platform/default/dso_loader.cc:64] Could not load dynamic library 'libcudart.so.11.0'; dlerror: libcudart.so.11.0: cannot open shared object file: No such file or directory\n",
      "2023-03-26 11:35:05.389597: I tensorflow/compiler/xla/stream_executor/cuda/cudart_stub.cc:29] Ignore above cudart dlerror if you do not have a GPU set up on your machine.\n",
      "2023-03-26 11:35:05.824518: W tensorflow/compiler/xla/stream_executor/platform/default/dso_loader.cc:64] Could not load dynamic library 'libnvinfer.so.7'; dlerror: libnvinfer.so.7: cannot open shared object file: No such file or directory\n",
      "2023-03-26 11:35:05.824554: W tensorflow/compiler/xla/stream_executor/platform/default/dso_loader.cc:64] Could not load dynamic library 'libnvinfer_plugin.so.7'; dlerror: libnvinfer_plugin.so.7: cannot open shared object file: No such file or directory\n",
      "2023-03-26 11:35:05.824558: W tensorflow/compiler/tf2tensorrt/utils/py_utils.cc:38] TF-TRT Warning: Cannot dlopen some TensorRT libraries. If you would like to use Nvidia GPU with TensorRT, please make sure the missing libraries mentioned above are installed properly.\n"
     ]
    }
   ],
   "source": [
    "import numpy as np\n",
    "import matplotlib.pyplot as plt\n",
    "import tensorflow as tf\n",
    "from tensorflow.keras import datasets, layers, models\n",
    "from sklearn.preprocessing import normalize\n",
    "from tensorflow.keras import regularizers"
   ]
  },
  {
   "cell_type": "code",
   "execution_count": 3,
   "id": "9f755f52",
   "metadata": {},
   "outputs": [
    {
     "data": {
      "text/plain": [
       "(3561, 256, 6, 1)"
      ]
     },
     "execution_count": 3,
     "metadata": {},
     "output_type": "execute_result"
    }
   ],
   "source": [
    "X_train = np.load('multichannel_dataset/X_train.npy')\n",
    "X_test = np.load('multichannel_dataset/X_test.npy')\n",
    "y_train = np.load('multichannel_dataset/y_train.npy')\n",
    "y_test = np.load('multichannel_dataset/y_test.npy')\n",
    "\n",
    "X_train = np.expand_dims(X_train, axis = -1)\n",
    "X_test = np.expand_dims(X_test, axis = -1)\n",
    "y_train = np.expand_dims(y_train, axis = -1)\n",
    "y_test = np.expand_dims(y_test, axis = -1)\n",
    "\n",
    "y_train = np.append(y_train, 1-y_train, axis = 1)\n",
    "y_test = np.append(y_test, 1-y_test, axis = 1)\n",
    "\n",
    "X_train = np.swapaxes(X_train, 1, 2)\n",
    "X_test = np.swapaxes(X_test, 1, 2)\n",
    "\n",
    "X_train.shape"
   ]
  },
  {
   "cell_type": "code",
   "execution_count": 22,
   "id": "7aefb5f1",
   "metadata": {},
   "outputs": [
    {
     "name": "stdout",
     "output_type": "stream",
     "text": [
      "Model: \"sequential_17\"\n",
      "_________________________________________________________________\n",
      " Layer (type)                Output Shape              Param #   \n",
      "=================================================================\n",
      " conv2d_31 (Conv2D)          (None, 256, 6, 40)        1240      \n",
      "                                                                 \n",
      " conv2d_32 (Conv2D)          (None, 256, 1, 40)        9640      \n",
      "                                                                 \n",
      " average_pooling2d_9 (Averag  (None, 16, 1, 40)        0         \n",
      " ePooling2D)                                                     \n",
      "                                                                 \n",
      " reshape_5 (Reshape)         (None, 16, 40)            0         \n",
      "                                                                 \n",
      " gru_9 (GRU)                 (None, 16, 40)            9840      \n",
      "                                                                 \n",
      " flatten_12 (Flatten)        (None, 640)               0         \n",
      "                                                                 \n",
      " dense_22 (Dense)            (None, 80)                51280     \n",
      "                                                                 \n",
      " dense_23 (Dense)            (None, 2)                 162       \n",
      "                                                                 \n",
      "=================================================================\n",
      "Total params: 72,162\n",
      "Trainable params: 72,162\n",
      "Non-trainable params: 0\n",
      "_________________________________________________________________\n"
     ]
    }
   ],
   "source": [
    "input_shape = (256, 6, 1)\n",
    "\n",
    "model = models.Sequential()\n",
    "model.add(layers.Conv2D(40, (30, 1), kernel_regularizer=regularizers.L2(1e-2), activation=\"relu\", padding=\"same\", input_shape=input_shape))\n",
    "model.add(layers.Conv2D(40, (1, 6), kernel_regularizer=regularizers.L2(1e-2), activation=\"relu\", padding=\"valid\"))\n",
    "model.add(layers.AveragePooling2D((30, 1), strides=(15, 1)))\n",
    "model.add((layers.Reshape((16,40))))\n",
    "model.add(layers.GRU(40, return_sequences=True))\n",
    "\n",
    "model.add(layers.Flatten())\n",
    "model.add(layers.Dense(80, kernel_regularizer=regularizers.L2(1e-2), activation=\"relu\"))\n",
    "model.add(layers.Dense(2, activation=\"softmax\"))\n",
    "\n",
    "model.summary()"
   ]
  },
  {
   "cell_type": "code",
   "execution_count": 23,
   "id": "705bc4db",
   "metadata": {
    "scrolled": false
   },
   "outputs": [
    {
     "name": "stdout",
     "output_type": "stream",
     "text": [
      "Epoch 1/15\n",
      "112/112 [==============================] - 3s 17ms/step - loss: 1.7587 - acc: 0.6332 - val_loss: 1.2736 - val_acc: 0.6510\n",
      "Epoch 2/15\n",
      "112/112 [==============================] - 2s 15ms/step - loss: 1.0524 - acc: 0.6872 - val_loss: 0.8993 - val_acc: 0.6801\n",
      "Epoch 3/15\n",
      "112/112 [==============================] - 2s 15ms/step - loss: 0.8262 - acc: 0.6832 - val_loss: 0.7493 - val_acc: 0.6813\n",
      "Epoch 4/15\n",
      "112/112 [==============================] - 2s 14ms/step - loss: 0.7205 - acc: 0.7009 - val_loss: 0.7128 - val_acc: 0.6756\n",
      "Epoch 5/15\n",
      "112/112 [==============================] - 2s 14ms/step - loss: 0.6637 - acc: 0.7018 - val_loss: 0.6478 - val_acc: 0.6835\n",
      "Epoch 6/15\n",
      "112/112 [==============================] - 2s 15ms/step - loss: 0.6354 - acc: 0.7071 - val_loss: 0.6244 - val_acc: 0.6925\n",
      "Epoch 7/15\n",
      "112/112 [==============================] - 2s 15ms/step - loss: 0.6130 - acc: 0.7012 - val_loss: 0.6123 - val_acc: 0.6824\n",
      "Epoch 8/15\n",
      "112/112 [==============================] - 2s 15ms/step - loss: 0.5964 - acc: 0.7152 - val_loss: 0.6237 - val_acc: 0.6813\n",
      "Epoch 9/15\n",
      "112/112 [==============================] - 2s 15ms/step - loss: 0.5911 - acc: 0.7119 - val_loss: 0.6014 - val_acc: 0.6891\n",
      "Epoch 10/15\n",
      "112/112 [==============================] - 2s 15ms/step - loss: 0.5759 - acc: 0.7237 - val_loss: 0.5949 - val_acc: 0.6745\n",
      "Epoch 11/15\n",
      "112/112 [==============================] - 2s 15ms/step - loss: 0.5796 - acc: 0.7223 - val_loss: 0.6078 - val_acc: 0.6947\n",
      "Epoch 12/15\n",
      "112/112 [==============================] - 2s 15ms/step - loss: 0.5771 - acc: 0.7206 - val_loss: 0.5998 - val_acc: 0.6869\n",
      "Epoch 13/15\n",
      "112/112 [==============================] - 2s 15ms/step - loss: 0.5799 - acc: 0.7183 - val_loss: 0.5930 - val_acc: 0.7037\n",
      "Epoch 14/15\n",
      "112/112 [==============================] - 2s 15ms/step - loss: 0.5670 - acc: 0.7318 - val_loss: 0.6029 - val_acc: 0.6958\n",
      "Epoch 15/15\n",
      "112/112 [==============================] - 2s 15ms/step - loss: 0.5601 - acc: 0.7363 - val_loss: 0.6055 - val_acc: 0.6970\n"
     ]
    }
   ],
   "source": [
    "model.compile(loss=\"categorical_crossentropy\", optimizer=\"adam\", metrics=[\"acc\"])\n",
    "\n",
    "history = model.fit(X_train, y_train, epochs=15, \n",
    "                    validation_data=(X_test, y_test))\n"
   ]
  },
  {
   "cell_type": "code",
   "execution_count": 125,
   "id": "3db6795c",
   "metadata": {},
   "outputs": [
    {
     "name": "stderr",
     "output_type": "stream",
     "text": [
      "WARNING:absl:Found untraced functions such as _jit_compiled_convolution_op, _jit_compiled_convolution_op, _update_step_xla while saving (showing 3 of 3). These functions will not be directly callable after loading.\n"
     ]
    },
    {
     "name": "stdout",
     "output_type": "stream",
     "text": [
      "INFO:tensorflow:Assets written to: eeg_cnn/assets\n"
     ]
    },
    {
     "name": "stderr",
     "output_type": "stream",
     "text": [
      "INFO:tensorflow:Assets written to: eeg_cnn/assets\n"
     ]
    }
   ],
   "source": [
    "model.save('eeg_cnn')"
   ]
  }
 ],
 "metadata": {
  "kernelspec": {
   "display_name": "Python 3 (ipykernel)",
   "language": "python",
   "name": "python3"
  },
  "language_info": {
   "codemirror_mode": {
    "name": "ipython",
    "version": 3
   },
   "file_extension": ".py",
   "mimetype": "text/x-python",
   "name": "python",
   "nbconvert_exporter": "python",
   "pygments_lexer": "ipython3",
   "version": "3.8.10"
  }
 },
 "nbformat": 4,
 "nbformat_minor": 5
}
